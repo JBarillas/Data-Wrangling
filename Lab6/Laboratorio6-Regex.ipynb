{
 "cells": [
  {
   "cell_type": "markdown",
   "metadata": {},
   "source": [
    "# Laboratorio 6 Regex"
   ]
  },
  {
   "cell_type": "code",
   "execution_count": 5,
   "metadata": {},
   "outputs": [],
   "source": [
    "import numpy as np\n",
    "import pandas as pd\n",
    "import re\n"
   ]
  },
  {
   "cell_type": "code",
   "execution_count": 10,
   "metadata": {},
   "outputs": [
    {
     "name": "stdout",
     "output_type": "stream",
     "text": [
      "P932DHK -> Es correcto\n",
      "P952DKS -> Es correcto\n",
      "P535LFU -> No es correcto\n",
      "P123AEO -> No es correcto\n",
      "P592MMM -> Es correcto\n"
     ]
    }
   ],
   "source": [
    "# Ejercicio No. 1\n",
    "# Detección para placas particulares de Guatemala\n",
    "Placas = ['P932DHK', 'P952DKS', 'P535LFU', 'P123AEO', 'P592MMM']\n",
    "largo = len(Placas)\n",
    "\n",
    "for i in range(largo):\n",
    "    validacion = re.fullmatch('^[P][0-9]{3}[B-D|F-H|J-N|P-T|V-Z]{3}', Placas[i])\n",
    "    if validacion != None:\n",
    "        print(Placas[i] + \" -> Es correcto\")\n",
    "    else:\n",
    "        print(Placas[i] + \" -> No es correcto\")\n",
    "    i = i + 1"
   ]
  },
  {
   "cell_type": "code",
   "execution_count": 44,
   "metadata": {},
   "outputs": [
    {
     "name": "stdout",
     "output_type": "stream",
     "text": [
      "Ejemplo1.pdf -> Es correcto\n",
      "prueba2.PDF -> Es correcto\n",
      "respuestas_del_examen.jpg -> Es correcto\n",
      "amor.JPG -> Es correcto\n",
      "Error.xml -> No es correcto\n",
      "Prueba2.JSON -> No es correcto\n"
     ]
    }
   ],
   "source": [
    "#Ejercicio No. 2\n",
    "# Validacion de tipo de archivo\n",
    "#Genere una expresión regular que valide si un archivo es de tipo .pdf o jpg.\n",
    "#Ejemplo1.pdf, prueba2.PDF, respuestas_del_examen.jpg, amor.JPG\n",
    "Extension = ['Ejemplo1.pdf', 'prueba2.PDF', 'respuestas_del_examen.jpg', 'amor.JPG', 'Error.xml', 'Prueba2.JSON']\n",
    "largo = len(Extension)\n",
    "\n",
    "for i in range(largo):\n",
    "    validacion = re.fullmatch('\\w+.((pdf|PDF)|(jpg|JPG))', Extension[i])\n",
    "    if validacion != None:\n",
    "        print(Extension[i] + \" -> Es correcto\")\n",
    "    else:\n",
    "        print(Extension[i] + \" -> No es correcto\")\n",
    "    i = i + 1"
   ]
  },
  {
   "cell_type": "code",
   "execution_count": 31,
   "metadata": {},
   "outputs": [
    {
     "name": "stdout",
     "output_type": "stream",
     "text": [
      "20004645 -> Carnet valido\n",
      "08002689 -> Carnet valido\n",
      "30002450 -> Carnet valido\n",
      "25048512 -> Carnet invalido\n",
      "31004545 -> Carnet invalido\n"
     ]
    }
   ],
   "source": [
    "#Ejercicio No. 4\n",
    "#Cree una expresión regular para validar un numero de carnet de la Universidad Galileo, por ejemplo 19002324 donde los primeros dos dígitos representan el año en el que el alumno se inscribió los cuales pueden variar desde el 01 (año2001) hasta el 30 (año 2030). \n",
    "#Los siguientes dos dígitos son cero (00) los cuales van por default y los últimos cuatro dígitos son un número que va desde el 1110 hasta el 8970. Para dar su respuesta utilice la notación de expresionesregulares.\n",
    "\n",
    "Carnets = ['20004645','08002689','30002450', '25048512', '31004545']\n",
    "largo = len(Carnets)\n",
    "\n",
    "for i in range(largo):\n",
    "    validacion = re.fullmatch('((0[1-9])|([1-2][0-9]|30))00(111[0-9]|11[2-9][0-9]|89[0-7]0|[2-8][0-8][0-9][0-9])$',Carnets[i])\n",
    "    if (validacion != None):\n",
    "        print(Carnets[i] + ' -> Carnet valido')\n",
    "    else:\n",
    "        print(Carnets[i] + ' -> Carnet invalido')\n",
    "    i += 1"
   ]
  },
  {
   "cell_type": "code",
   "execution_count": 42,
   "metadata": {},
   "outputs": [
    {
     "name": "stdout",
     "output_type": "stream",
     "text": [
      "+50254821151 -> Telefono valido\n",
      "4210-7640 -> Telefono valido\n",
      " 52018150 -> Telefono valido\n",
      "2434 6854 -> Telefono valido\n",
      "11234569 -> Telefono invalido\n",
      "50211234578 -> Telefono invalido\n",
      "33908512 -> Telefono invalido\n",
      "50233908512 -> Telefono invalido\n"
     ]
    }
   ],
   "source": [
    "# Ejercicio No. 6\n",
    "# Cree una expresión regular para obtener los números telefónicos de Guatemala. Estos pueden contener al inicio +502 o 502, pueden estar separados por un espacio en blanco o un guión o juntos. \n",
    "# Notar que los números telefónicos pueden empezar únicamente con 4,5,6 o 2.\n",
    "Telefonos = ['+50254821151', '4210-7640',' 52018150','2434 6854', '11234569','50211234578','33908512', '50233908512']\n",
    "largo = len(Telefonos)\n",
    "\n",
    "for i in range(largo):\n",
    "    validacion = re.fullmatch('(\\+502|502)?(\\-| )?[2456]([0-9](\\-| )?){7}',Telefonos[i])\n",
    "    if (validacion != None):\n",
    "        print(Telefonos[i] + ' -> Telefono valido')\n",
    "    else:\n",
    "        print(Telefonos[i] + ' -> Telefono invalido')\n",
    "    i += 1"
   ]
  },
  {
   "cell_type": "code",
   "execution_count": 34,
   "metadata": {},
   "outputs": [
    {
     "name": "stdout",
     "output_type": "stream",
     "text": [
      "juanbarillas@ufm.edu -> Correo valido\n",
      "juanbarillas@uf.edu -> Correo invalido\n",
      "juanbarillas@gmail.edu -> Correo invalido\n",
      "juanbarillas@gmail.com -> Correo invalido\n",
      "enriquebarillas24@ufm.edu -> Correo valido\n",
      "juanbarillas@ufm2.edu -> Correo invalido\n"
     ]
    }
   ],
   "source": [
    "# Ejercicio No. 7\n",
    "# Genere una expresión regular que sea capaz de obtener correos de la UFM\n",
    "Correos = ['juanbarillas@ufm.edu', 'juanbarillas@uf.edu', 'juanbarillas@gmail.edu', 'juanbarillas@gmail.com', 'enriquebarillas24@ufm.edu', 'juanbarillas@ufm2.edu']\n",
    "largo = len(Correos)\n",
    "\n",
    "for i in range(largo):\n",
    "    validacion = re.fullmatch('([a-z]{0,}[0-9]{0,})+@(ufm.edu){1}', Correos[i])\n",
    "    if validacion != None:\n",
    "        print(Correos[i] + ' -> Correo valido')\n",
    "    else:\n",
    "        print(Correos[i] + ' -> Correo invalido')\n",
    "    i += 1\n",
    "\n"
   ]
  },
  {
   "cell_type": "code",
   "execution_count": 37,
   "metadata": {},
   "outputs": [
    {
     "name": "stdout",
     "output_type": "stream",
     "text": [
      "01PRUEBA-> Identificador valido\n",
      "don123456JUAN-> Identificador valido\n",
      "abc0123abc -> Identificador invalido\n"
     ]
    }
   ],
   "source": [
    "# Ejercicio No. 8\n",
    "# En el mundo distópico de Eurasia, Big Brother le asigna un identificador único a cada ciudadano. Genere una expresión regular que valide las identificaciones. Composición del id:\n",
    "# a. El id inicia con 0 a 3 letras minúsculas (puede tener 0 letras minúsculas hasta tres letras minúsculas)\n",
    "#b. Luego es seguido por una cadena de dígitos que puede ser de 2 a 9 dígitos respectivamente.\n",
    "#c. Inmediatamente después de la cadena de dígitos, se encuentra por lo menos tres letras mayúsculas.\n",
    "# d. Ej: abc012333ABCDEEEE\n",
    "Eurasia = ['01PRUEBA', 'don123456JUAN', 'abc0123abc']\n",
    "largo = len(Eurasia)\n",
    "\n",
    "for i in range(largo):\n",
    "    validacion = re.fullmatch('([(a-z]{0,3})((\\d){2,9})([A-Z]{3,})', Eurasia[i])\n",
    "    if validacion != None:\n",
    "        print(Eurasia[i] + '-> Identificador valido')\n",
    "    else:\n",
    "        print(Eurasia[i] + ' -> Identificador invalido')\n",
    "    i += 1"
   ]
  },
  {
   "cell_type": "code",
   "execution_count": null,
   "metadata": {},
   "outputs": [],
   "source": []
  }
 ],
 "metadata": {
  "kernelspec": {
   "display_name": "Python 3",
   "language": "python",
   "name": "python3"
  },
  "language_info": {
   "codemirror_mode": {
    "name": "ipython",
    "version": 3
   },
   "file_extension": ".py",
   "mimetype": "text/x-python",
   "name": "python",
   "nbconvert_exporter": "python",
   "pygments_lexer": "ipython3",
   "version": "3.8.4"
  }
 },
 "nbformat": 4,
 "nbformat_minor": 4
}
